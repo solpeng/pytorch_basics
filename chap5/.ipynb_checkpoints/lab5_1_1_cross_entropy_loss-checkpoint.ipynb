{
 "cells": [
  {
   "cell_type": "code",
   "execution_count": 7,
   "id": "628626f9",
   "metadata": {},
   "outputs": [
    {
     "name": "stdout",
     "output_type": "stream",
     "text": [
      "6.531208515167236\n"
     ]
    }
   ],
   "source": [
    "import torch\n",
    "\n",
    "Z = torch.Tensor([[2.0, -1.0, 5.5]])\n",
    "y = torch.LongTensor([1])\n",
    "\n",
    "ce = torch.nn.CrossEntropyLoss()\n",
    "loss = ce(Z, y)\n",
    "\n",
    "print(loss.item())"
   ]
  }
 ],
 "metadata": {
  "kernelspec": {
   "display_name": "hansol",
   "language": "python",
   "name": "hansol"
  },
  "language_info": {
   "codemirror_mode": {
    "name": "ipython",
    "version": 3
   },
   "file_extension": ".py",
   "mimetype": "text/x-python",
   "name": "python",
   "nbconvert_exporter": "python",
   "pygments_lexer": "ipython3",
   "version": "3.9.7"
  }
 },
 "nbformat": 4,
 "nbformat_minor": 5
}

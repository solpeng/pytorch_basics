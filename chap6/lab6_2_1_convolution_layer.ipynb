{
  "nbformat": 4,
  "nbformat_minor": 0,
  "metadata": {
    "colab": {
      "name": "lab6_2_1_convolution_layer.ipynb",
      "provenance": [],
      "collapsed_sections": []
    },
    "kernelspec": {
      "name": "python3",
      "display_name": "Python 3"
    },
    "language_info": {
      "name": "python"
    }
  },
  "cells": [
    {
      "cell_type": "code",
      "execution_count": 4,
      "metadata": {
        "colab": {
          "base_uri": "https://localhost:8080/"
        },
        "id": "RdDrCWs4Av_d",
        "outputId": "475bdd50-a68d-4ab4-ebf1-dd70fa5e8cdf"
      },
      "outputs": [
        {
          "output_type": "stream",
          "name": "stdout",
          "text": [
            "torch.Size([1, 3, 28, 28])\n",
            "torch.Size([1, 10, 24, 24])\n",
            "torch.Size([1, 10, 12, 12])\n"
          ]
        }
      ],
      "source": [
        "import torch\n",
        "import torch.nn as nn\n",
        "\n",
        "cnv1 = nn.Conv2d(in_channels=3, out_channels=10, \n",
        "                 kernel_size=5, stride=1, padding=0)\n",
        "max_pool = nn.MaxPool2d(kernel_size=2)\n",
        "\n",
        "input_img = torch.rand((1,3,28,28))\n",
        "out_feature1 = cnv1(input_img)\n",
        "out_feature2 = max_pool(out_feature1)\n",
        "\n",
        "print(input_img.shape)\n",
        "print(out_feature1.shape)\n",
        "print(out_feature2.shape)"
      ]
    }
  ]
}
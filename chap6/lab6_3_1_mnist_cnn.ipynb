{
 "cells": [
  {
   "cell_type": "code",
   "execution_count": 1,
   "id": "3e96e7c3",
   "metadata": {},
   "outputs": [
    {
     "name": "stdout",
     "output_type": "stream",
     "text": [
      "Downloading http://yann.lecun.com/exdb/mnist/train-images-idx3-ubyte.gz\n",
      "Downloading http://yann.lecun.com/exdb/mnist/train-images-idx3-ubyte.gz to MNIST_data/MNIST/raw/train-images-idx3-ubyte.gz\n"
     ]
    },
    {
     "data": {
      "application/vnd.jupyter.widget-view+json": {
       "model_id": "a11b81073eb54d528127db49992fed4e",
       "version_major": 2,
       "version_minor": 0
      },
      "text/plain": [
       "  0%|          | 0/9912422 [00:00<?, ?it/s]"
      ]
     },
     "metadata": {},
     "output_type": "display_data"
    },
    {
     "name": "stdout",
     "output_type": "stream",
     "text": [
      "Extracting MNIST_data/MNIST/raw/train-images-idx3-ubyte.gz to MNIST_data/MNIST/raw\n",
      "\n",
      "Downloading http://yann.lecun.com/exdb/mnist/train-labels-idx1-ubyte.gz\n",
      "Downloading http://yann.lecun.com/exdb/mnist/train-labels-idx1-ubyte.gz to MNIST_data/MNIST/raw/train-labels-idx1-ubyte.gz\n"
     ]
    },
    {
     "data": {
      "application/vnd.jupyter.widget-view+json": {
       "model_id": "583bc250a9104608b700e1ba894dbcfb",
       "version_major": 2,
       "version_minor": 0
      },
      "text/plain": [
       "  0%|          | 0/28881 [00:00<?, ?it/s]"
      ]
     },
     "metadata": {},
     "output_type": "display_data"
    },
    {
     "name": "stdout",
     "output_type": "stream",
     "text": [
      "Extracting MNIST_data/MNIST/raw/train-labels-idx1-ubyte.gz to MNIST_data/MNIST/raw\n",
      "\n",
      "Downloading http://yann.lecun.com/exdb/mnist/t10k-images-idx3-ubyte.gz\n",
      "Downloading http://yann.lecun.com/exdb/mnist/t10k-images-idx3-ubyte.gz to MNIST_data/MNIST/raw/t10k-images-idx3-ubyte.gz\n"
     ]
    },
    {
     "data": {
      "application/vnd.jupyter.widget-view+json": {
       "model_id": "b4311a41a2674b9c855040d35194c656",
       "version_major": 2,
       "version_minor": 0
      },
      "text/plain": [
       "  0%|          | 0/1648877 [00:00<?, ?it/s]"
      ]
     },
     "metadata": {},
     "output_type": "display_data"
    },
    {
     "name": "stdout",
     "output_type": "stream",
     "text": [
      "Extracting MNIST_data/MNIST/raw/t10k-images-idx3-ubyte.gz to MNIST_data/MNIST/raw\n",
      "\n",
      "Downloading http://yann.lecun.com/exdb/mnist/t10k-labels-idx1-ubyte.gz\n",
      "Downloading http://yann.lecun.com/exdb/mnist/t10k-labels-idx1-ubyte.gz to MNIST_data/MNIST/raw/t10k-labels-idx1-ubyte.gz\n"
     ]
    },
    {
     "data": {
      "application/vnd.jupyter.widget-view+json": {
       "model_id": "38bb1ae87dbf43908f6bf1604ca44440",
       "version_major": 2,
       "version_minor": 0
      },
      "text/plain": [
       "  0%|          | 0/4542 [00:00<?, ?it/s]"
      ]
     },
     "metadata": {},
     "output_type": "display_data"
    },
    {
     "name": "stdout",
     "output_type": "stream",
     "text": [
      "Extracting MNIST_data/MNIST/raw/t10k-labels-idx1-ubyte.gz to MNIST_data/MNIST/raw\n",
      "\n",
      "====== Epoch:  1 / 10 ======\n",
      "Batch:  1/6  Loss: 2.303080\n",
      "Batch:  2/6  Loss: 2.155830\n",
      "Batch:  3/6  Loss: 1.817984\n",
      "Batch:  4/6  Loss: 1.296692\n",
      "Batch:  5/6  Loss: 1.015639\n",
      "Batch:  6/6  Loss: 0.748329\n",
      "Accuracy: 68.22%\n",
      "elapsed time: 6.924820899963379\n",
      "====== Epoch:  2 / 10 ======\n",
      "Batch:  1/6  Loss: 1.053456\n",
      "Batch:  2/6  Loss: 0.591802\n",
      "Batch:  3/6  Loss: 0.685651\n",
      "Batch:  4/6  Loss: 0.592265\n",
      "Batch:  5/6  Loss: 0.488971\n",
      "Batch:  6/6  Loss: 0.475124\n",
      "Accuracy: 84.24%\n",
      "elapsed time: 6.9428627490997314\n",
      "====== Epoch:  3 / 10 ======\n",
      "Batch:  1/6  Loss: 0.468769\n",
      "Batch:  2/6  Loss: 0.423077\n",
      "Batch:  3/6  Loss: 0.373397\n",
      "Batch:  4/6  Loss: 0.361498\n",
      "Batch:  5/6  Loss: 0.342742\n",
      "Batch:  6/6  Loss: 0.334552\n",
      "Accuracy: 91.47%\n",
      "elapsed time: 6.933735609054565\n",
      "====== Epoch:  4 / 10 ======\n",
      "Batch:  1/6  Loss: 0.299126\n",
      "Batch:  2/6  Loss: 0.274136\n",
      "Batch:  3/6  Loss: 0.234451\n",
      "Batch:  4/6  Loss: 0.266808\n",
      "Batch:  5/6  Loss: 0.239268\n",
      "Batch:  6/6  Loss: 0.222318\n",
      "Accuracy: 94.18%\n",
      "elapsed time: 6.861063241958618\n",
      "====== Epoch:  5 / 10 ======\n",
      "Batch:  1/6  Loss: 0.204943\n",
      "Batch:  2/6  Loss: 0.203933\n",
      "Batch:  3/6  Loss: 0.201276\n",
      "Batch:  4/6  Loss: 0.181201\n",
      "Batch:  5/6  Loss: 0.175555\n",
      "Batch:  6/6  Loss: 0.174303\n",
      "Accuracy: 95.38%\n",
      "elapsed time: 6.874277114868164\n",
      "====== Epoch:  6 / 10 ======\n",
      "Batch:  1/6  Loss: 0.172535\n",
      "Batch:  2/6  Loss: 0.149126\n",
      "Batch:  3/6  Loss: 0.135771\n",
      "Batch:  4/6  Loss: 0.145844\n",
      "Batch:  5/6  Loss: 0.145469\n",
      "Batch:  6/6  Loss: 0.135024\n",
      "Accuracy: 96.59%\n",
      "elapsed time: 6.905343055725098\n",
      "====== Epoch:  7 / 10 ======\n",
      "Batch:  1/6  Loss: 0.120794\n",
      "Batch:  2/6  Loss: 0.124529\n",
      "Batch:  3/6  Loss: 0.122655\n",
      "Batch:  4/6  Loss: 0.115135\n",
      "Batch:  5/6  Loss: 0.114876\n",
      "Batch:  6/6  Loss: 0.110315\n",
      "Accuracy: 97.08%\n",
      "elapsed time: 6.818095445632935\n",
      "====== Epoch:  8 / 10 ======\n",
      "Batch:  1/6  Loss: 0.099497\n",
      "Batch:  2/6  Loss: 0.106835\n",
      "Batch:  3/6  Loss: 0.104935\n",
      "Batch:  4/6  Loss: 0.090690\n",
      "Batch:  5/6  Loss: 0.095744\n",
      "Batch:  6/6  Loss: 0.093523\n",
      "Accuracy: 97.72%\n",
      "elapsed time: 7.063447952270508\n",
      "====== Epoch:  9 / 10 ======\n",
      "Batch:  1/6  Loss: 0.095524\n",
      "Batch:  2/6  Loss: 0.083652\n",
      "Batch:  3/6  Loss: 0.091084\n",
      "Batch:  4/6  Loss: 0.081635\n",
      "Batch:  5/6  Loss: 0.074444\n",
      "Batch:  6/6  Loss: 0.078344\n",
      "Accuracy: 98.06%\n",
      "elapsed time: 7.002843856811523\n",
      "====== Epoch: 10 / 10 ======\n",
      "Batch:  1/6  Loss: 0.072883\n",
      "Batch:  2/6  Loss: 0.078703\n",
      "Batch:  3/6  Loss: 0.071955\n",
      "Batch:  4/6  Loss: 0.073135\n",
      "Batch:  5/6  Loss: 0.076951\n",
      "Batch:  6/6  Loss: 0.067508\n",
      "Accuracy: 98.25%\n",
      "elapsed time: 6.853885173797607\n",
      "elapsed time: 69.18121314048767\n"
     ]
    },
    {
     "data": {
      "image/png": "[encoded data removed]",
      "text/plain": [
       "<Figure size 432x288 with 1 Axes>"
      ]
     },
     "metadata": {
      "needs_background": "light"
     },
     "output_type": "display_data"
    }
   ],
   "source": [
    "import torchvision.datasets as datasets\n",
    "import torchvision.transforms as transforms\n",
    "from torch.utils.data import DataLoader\n",
    "import torch\n",
    "import matplotlib.pyplot as plt\n",
    "import time\n",
    "\n",
    "mnist_train = datasets.MNIST(root='MNIST_data/',\n",
    "                             train=True,\n",
    "                             transform=transforms.ToTensor(),\n",
    "                             download=True)\n",
    "\n",
    "mnist_test = datasets.MNIST(root='MNIST_data/',\n",
    "                             train=False,\n",
    "                             transform=transforms.ToTensor(),\n",
    "                             download=True)\n",
    "\n",
    "BATSIZE = 10000\n",
    "train_loader = DataLoader(dataset=mnist_train,\n",
    "                          batch_size=BATSIZE,\n",
    "                          shuffle=True,\n",
    "                          num_workers=0)\n",
    "test_loader = DataLoader(dataset=mnist_test,\n",
    "                          batch_size=len(mnist_test),\n",
    "                          shuffle=False,\n",
    "                          num_workers=0)\n",
    "\n",
    "class Net(torch.nn.Module):\n",
    "    def __init__(self):\n",
    "        super(Net, self).__init__()\n",
    "\n",
    "        self.cnv1 = torch.nn.Conv2d(in_channels=1, \n",
    "                                    out_channels=16,\n",
    "                                    kernel_size=5,\n",
    "                                    stride=1,\n",
    "                                    padding=0)\n",
    "        self.cnv2 = torch.nn.Conv2d(in_channels=16, \n",
    "                                    out_channels=32,\n",
    "                                    kernel_size=5,\n",
    "                                    stride=1,\n",
    "                                    padding=0)\n",
    "\n",
    "        self.fc = torch.nn.Linear(512, 10)\n",
    "\n",
    "        self.mp = torch.nn.MaxPool2d(2)        \n",
    "        self.relu = torch.nn.ReLU()\n",
    "\n",
    "    def forward(self, x):\n",
    "        x = self.relu(self.mp(self.cnv1(x)))\n",
    "        x = self.relu(self.mp(self.cnv2(x)))\n",
    "\n",
    "        x = x.view(-1, 512)\n",
    "        z = self.fc(x)\n",
    "        return z\n",
    "\n",
    "net = Net()\n",
    "\n",
    "cel = torch.nn.CrossEntropyLoss()\n",
    "optimizer = torch.optim.Adam(net.parameters(), lr=0.01)\n",
    "\n",
    "\n",
    "EPOCHS = 10\n",
    "loss_lst = []\n",
    "acc_lst = []\n",
    "\n",
    "start_time = time.time()\n",
    "for epoch in range(EPOCHS):\n",
    "    batch_time = time.time()\n",
    "    print(f'====== Epoch: {epoch+1:2d} / {EPOCHS} ======')\n",
    "    net.train()\n",
    "    l_sum = 0\n",
    "    for batch_idx, (x,y) in enumerate(train_loader):\n",
    "        z = net(x)\n",
    "        loss = cel(z, y)\n",
    "        optimizer.zero_grad()\n",
    "        loss.backward()\n",
    "        optimizer.step()\n",
    "        l_sum += loss.item()\n",
    "        print(f'Batch: {batch_idx+1:2d}/{len(train_loader)} ',\n",
    "              f'Loss: {loss.item():0.6f}')        \n",
    "    loss_lst.append(l_sum/len(train_loader))\n",
    "\n",
    "    net.eval()\n",
    "    with torch.no_grad():\n",
    "        correct = 0\n",
    "        for batch_idx, (x,y) in enumerate(test_loader):\n",
    "            z = net(x)\n",
    "            yhat = torch.argmax(z, dim=1)\n",
    "            correct += torch.sum(y==yhat)\n",
    "    \n",
    "    accuracy = correct / len(mnist_test)\n",
    "    acc_lst.append(accuracy)\n",
    "    \n",
    "    print(f'Accuracy: {accuracy.item()*100:0.2f}%')\n",
    "    print(\"elapsed time:\", time.time() - batch_time)\n",
    "        \n",
    "print(\"elapsed time:\", time.time() - start_time)\n",
    "\n",
    "plt.plot(range(EPOCHS), loss_lst)\n",
    "plt.plot(range(EPOCHS), acc_lst)\n",
    "plt.xlabel('Epochs')\n",
    "plt.ylabel('loss and accuracy')\n",
    "plt.legend(['loss', 'accuracy'])\n",
    "plt.grid(True)\n",
    "plt.show()"
   ]
  }
 ],
 "metadata": {
  "kernelspec": {
   "display_name": "Python 3 (ipykernel)",
   "language": "python",
   "name": "python3"
  },
  "language_info": {
   "codemirror_mode": {
    "name": "ipython",
    "version": 3
   },
   "file_extension": ".py",
   "mimetype": "text/x-python",
   "name": "python",
   "nbconvert_exporter": "python",
   "pygments_lexer": "ipython3",
   "version": "3.9.7"
  }
 },
 "nbformat": 4,
 "nbformat_minor": 5
}

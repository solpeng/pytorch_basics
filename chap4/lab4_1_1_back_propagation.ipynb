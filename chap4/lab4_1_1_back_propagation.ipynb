{
  "nbformat": 4,
  "nbformat_minor": 0,
  "metadata": {
    "colab": {
      "name": "lab4_1_1_back_propagation.ipynb",
      "provenance": [],
      "collapsed_sections": []
    },
    "kernelspec": {
      "name": "python3",
      "display_name": "Python 3"
    },
    "language_info": {
      "name": "python"
    }
  },
  "cells": [
    {
      "cell_type": "code",
      "metadata": {
        "id": "TGV4nhxwTWUw"
      },
      "source": [
        "import torch\n",
        "\n",
        "def f(x,y):\n",
        "    v1 = 2*x\n",
        "    v2 = v1+100\n",
        "    v3 = y*y\n",
        "    v4 = v2*v3\n",
        "    return v4\n",
        "\n",
        "x = torch.tensor([10.0], requires_grad=True)\n",
        "y = torch.tensor([2.0],  requires_grad=True)\n",
        "\n",
        "v4 = f(x,y)\n",
        "v4.backward()\n",
        "\n",
        "print(f'x={x.item()}, y={y.item()}일 때')\n",
        "print(f'순전파 결과 v4={v4.item()}')\n",
        "print('역전파 결과 (partial v4)/(partial y)=',\n",
        "      y.grad.data.item())\n",
        "print('역전파 결과 (partial v4)/(partial x)=',\n",
        "      x.grad.data.item())"
      ],
      "execution_count": null,
      "outputs": []
    }
  ]
}
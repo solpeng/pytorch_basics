{
  "nbformat": 4,
  "nbformat_minor": 0,
  "metadata": {
    "colab": {
      "name": "lab4_5_3_logistic_regression_relu.ipynb.ipynb",
      "provenance": [],
      "collapsed_sections": []
    },
    "kernelspec": {
      "name": "python3",
      "display_name": "Python 3"
    },
    "language_info": {
      "name": "python"
    }
  },
  "cells": [
    {
      "cell_type": "code",
      "metadata": {
        "colab": {
          "base_uri": "https://localhost:8080/"
        },
        "id": "IxTlFD7yTGT0",
        "outputId": "97556f7d-472a-46bd-f135-b7424762a3a4"
      },
      "source": [
        "# MSE -> BCE loss 변경 (220502)\n",
        "import torch\n",
        "\n",
        "class Net(torch.nn.Module):\n",
        "    def __init__(self):\n",
        "        super(Net, self).__init__()\n",
        "        self.fc1 = torch.nn.Linear(2, 5)\n",
        "        self.fc2 = torch.nn.Linear(5, 4)\n",
        "        self.fc3 = torch.nn.Linear(4, 3)\n",
        "        self.fc4 = torch.nn.Linear(3, 1)\n",
        "\n",
        "        self.sigmoid = torch.nn.Sigmoid()\n",
        "        self.relu = torch.nn.ReLU()\n",
        "\n",
        "    def forward(self, x):\n",
        "        z1 = self.fc1(x)\n",
        "        yh1 = self.relu(z1)\n",
        "\n",
        "        z2 = self.fc2(yh1)\n",
        "        yh2 = self.relu(z2)\n",
        "\n",
        "        z3 = self.fc3(yh2)\n",
        "        yh3 = self.relu(z3)\n",
        "\n",
        "        z4 = self.fc4(yh3)\n",
        "        y_hat = self.sigmoid(z4)\n",
        "        return y_hat\n",
        "\n",
        "x_lst = torch.Tensor([[1, 30],\n",
        "                      [3, 29],\n",
        "                      [5, 28],\n",
        "                      [7, 24],\n",
        "                      [9, 25]])\n",
        "\n",
        "y_lst = torch.Tensor([1, 1, 1, 0, 0]).view(-1, 1)\n",
        "\n",
        "net = Net()\n",
        "criterion = torch.nn.BCELoss()\n",
        "optimizer = torch.optim.SGD(net.parameters(), lr=0.1)\n",
        "\n",
        "for epoch in range(2000):\n",
        "    y_hat = net(x_lst)\n",
        "    \n",
        "    loss = criterion(y_hat, y_lst)\n",
        "    optimizer.zero_grad()\n",
        "    loss.backward()\n",
        "    optimizer.step()\n",
        "\n",
        "    if epoch % 100 == 0:\n",
        "        print(f'epoch={epoch}, loss={loss.item():0.5f}')\n",
        "\n",
        "x_test = torch.Tensor([[5, 28]])\n",
        "y_test = net(x_test)\n",
        "is_tired = '하다' if y_test.item() > 0.5 else '하지 않다.'\n",
        "\n",
        "print(f'{x_test[0,1]}도에서 {x_test[0,0]}시간 수면하면 \\\n",
        "yhat={y_test.item():0.2f}이므로 \\\n",
        "피곤{is_tired}.')"
      ],
      "execution_count": 1,
      "outputs": [
        {
          "output_type": "stream",
          "name": "stdout",
          "text": [
            "epoch=0, loss=0.65752\n",
            "epoch=100, loss=0.23130\n",
            "epoch=200, loss=0.07710\n",
            "epoch=300, loss=0.04648\n",
            "epoch=400, loss=0.03277\n",
            "epoch=500, loss=0.02520\n",
            "epoch=600, loss=0.02055\n",
            "epoch=700, loss=0.01709\n",
            "epoch=800, loss=0.01468\n",
            "epoch=900, loss=0.01292\n",
            "epoch=1000, loss=0.01147\n",
            "epoch=1100, loss=0.01032\n",
            "epoch=1200, loss=0.00938\n",
            "epoch=1300, loss=0.00863\n",
            "epoch=1400, loss=0.00795\n",
            "epoch=1500, loss=0.00738\n",
            "epoch=1600, loss=0.00688\n",
            "epoch=1700, loss=0.00644\n",
            "epoch=1800, loss=0.00606\n",
            "epoch=1900, loss=0.00572\n",
            "28.0도에서 5.0시간 수면하면 yhat=1.00이므로 피곤하다.\n"
          ]
        }
      ]
    }
  ]
}
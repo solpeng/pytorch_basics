{
  "nbformat": 4,
  "nbformat_minor": 0,
  "metadata": {
    "colab": {
      "name": "lab4_4_1_logistic_regression.ipynb",
      "provenance": [],
      "collapsed_sections": []
    },
    "kernelspec": {
      "name": "python3",
      "display_name": "Python 3"
    },
    "language_info": {
      "name": "python"
    }
  },
  "cells": [
    {
      "cell_type": "code",
      "metadata": {
        "colab": {
          "base_uri": "https://localhost:8080/",
          "height": 495
        },
        "id": "j4uuL357MWyG",
        "outputId": "d60acca2-996b-403a-f130-8aae9c2c1009"
      },
      "source": [
        "import torch\n",
        "import matplotlib.pyplot as plt\n",
        "\n",
        "class Net(torch.nn.Module):\n",
        "    def __init__(self):\n",
        "        super(Net, self).__init__()\n",
        "\n",
        "        self.linear = torch.nn.Linear(1, 1)\n",
        "        self.sigmoid = torch.nn.Sigmoid()\n",
        "\n",
        "    def forward(self, x):\n",
        "        z = self.linear(x)\n",
        "        y_hat = self.sigmoid(z)\n",
        "        return y_hat\n",
        "\n",
        "x_lst = torch.Tensor([1, 3, 5, 7, 9]).view(-1, 1)\n",
        "y_lst = torch.Tensor([1, 1, 1, 0, 0]).view(-1, 1)\n",
        "\n",
        "net = Net()\n",
        "bce = torch.nn.BCELoss()\n",
        "optimizer = torch.optim.SGD(net.parameters(), lr=0.5)\n",
        "\n",
        "for epoch in range(1000):\n",
        "    y_hat = net(x_lst)\n",
        "    loss = bce(y_hat, y_lst)\n",
        "    optimizer.zero_grad()\n",
        "    loss.backward()\n",
        "    optimizer.step()\n",
        "\n",
        "    if epoch % 100 == 0:\n",
        "        print(f'epoch={epoch}, loss={loss.item():0.5f}')\n",
        "\n",
        "plt.plot(x_lst, y_lst,'*')\n",
        "plt.plot(x_lst, net(x_lst).detach().numpy(),'-o')\n",
        "plt.xlabel('x')\n",
        "plt.ylabel('y')\n",
        "plt.legend(('True','Predicted'))\n",
        "plt.show()\n",
        "\n",
        "x_test = torch.Tensor([[8]])\n",
        "y_test = net(x_test)\n",
        "\n",
        "is_tired = '하다' if y_test.item() >= 0.5 else '하지 않다'\n",
        "\n",
        "print(f'{x_test.item()}시간 수면 후 \\\n",
        "피곤할 확률은 {y_test.item()*100:0.1f}%이다')\n",
        "\n",
        "print(f'따라서 피곤{is_tired}.')"
      ],
      "execution_count": null,
      "outputs": [
        {
          "output_type": "stream",
          "text": [
            "epoch=0, loss=1.77321\n",
            "epoch=100, loss=0.23570\n",
            "epoch=200, loss=0.13716\n",
            "epoch=300, loss=0.11202\n",
            "epoch=400, loss=0.09598\n",
            "epoch=500, loss=0.08452\n",
            "epoch=600, loss=0.07577\n",
            "epoch=700, loss=0.06880\n",
            "epoch=800, loss=0.06309\n",
            "epoch=900, loss=0.05829\n"
          ],
          "name": "stdout"
        },
        {
          "output_type": "display_data",
          "data": {
            "text/plain": [
              "<Figure size 432x288 with 1 Axes>"
            ],
            "image/png": "[encoded data removed]"
          },
          "metadata": {
            "tags": [],
            "needs_background": "light"
          }
        },
        {
          "output_type": "stream",
          "text": [
            "8.0시간 수면 후 피곤할 확률은 1.6%이다\n",
            "따라서 피곤하지 않다.\n"
          ],
          "name": "stdout"
        }
      ]
    },
    {
      "cell_type": "code",
      "metadata": {
        "id": "f1V-oJqOClwV",
        "outputId": "76c64d2a-08c8-4f1c-c1c1-9c3137e451d8",
        "colab": {
          "base_uri": "https://localhost:8080/"
        }
      },
      "source": [
        "for param in net.parameters():\n",
        "    print(param)"
      ],
      "execution_count": null,
      "outputs": [
        {
          "output_type": "stream",
          "text": [
            "Parameter containing:\n",
            "tensor([[-1.9691]], requires_grad=True)\n",
            "Parameter containing:\n",
            "tensor([11.6203], requires_grad=True)\n"
          ],
          "name": "stdout"
        }
      ]
    }
  ]
}
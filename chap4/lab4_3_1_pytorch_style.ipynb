{
  "nbformat": 4,
  "nbformat_minor": 0,
  "metadata": {
    "colab": {
      "name": "lab4_3_1_pytorch_style.ipynb",
      "provenance": [],
      "collapsed_sections": []
    },
    "kernelspec": {
      "name": "python3",
      "display_name": "Python 3"
    },
    "language_info": {
      "name": "python"
    }
  },
  "cells": [
    {
      "cell_type": "code",
      "metadata": {
        "colab": {
          "base_uri": "https://localhost:8080/",
          "height": 709
        },
        "id": "6P42fMpcE9jr",
        "outputId": "219b41a9-111f-41cd-88bf-711e5aa342a0"
      },
      "source": [
        "import torch\n",
        "import matplotlib.pyplot as plt\n",
        "\n",
        "class Net(torch.nn.Module):\n",
        "    def __init__(self):\n",
        "        super(Net, self).__init__()\n",
        "        self.linear = torch.nn.Linear(1, 1, bias=True)\n",
        "\n",
        "    def forward(self, x):\n",
        "        y_hat = self.linear(x)\n",
        "        return y_hat\n",
        "\n",
        "x_lst = torch.Tensor([1, 3, 5, 7, 9]).view(-1, 1)\n",
        "y_lst = torch.Tensor([100, 75, 60, 25, 15]).view(-1, 1)\n",
        "\n",
        "net = Net()\n",
        "criterion = torch.nn.MSELoss()\n",
        "optimizer = torch.optim.SGD(net.parameters(), lr=0.01)\n",
        "\n",
        "for epoch in range(2000):\n",
        "    y_hat = net(x_lst)\n",
        "    loss = criterion(y_hat, y_lst)\n",
        "    optimizer.zero_grad()\n",
        "    loss.backward()\n",
        "    optimizer.step()\n",
        "\n",
        "    if epoch % 100 == 0:\n",
        "        print(f'epoch={epoch}, loss={loss.item():0.5f}')\n",
        "\n",
        "plt.plot(x_lst, y_lst,'*')\n",
        "plt.plot(x_lst, net(x_lst).detach().numpy(),'-o')\n",
        "plt.xlabel('x')\n",
        "plt.ylabel('y')\n",
        "plt.legend(('True','Predicted'))\n",
        "plt.show()\n",
        "\n",
        "for name, param in net.named_parameters():\n",
        "    print(name, param.data)\n",
        "\n",
        "x_test = torch.Tensor([[7]])\n",
        "y_test = net(x_test)\n",
        "print(f'{x_test.item()}수면 후 피곤한 정도: {y_test.item():0.2f}')"
      ],
      "execution_count": null,
      "outputs": [
        {
          "output_type": "stream",
          "text": [
            "epoch=0, loss=4268.91113\n",
            "epoch=100, loss=1148.43738\n",
            "epoch=200, loss=457.62466\n",
            "epoch=300, loss=190.46884\n",
            "epoch=400, loss=87.15165\n",
            "epoch=500, loss=47.19595\n",
            "epoch=600, loss=31.74394\n",
            "epoch=700, loss=25.76828\n",
            "epoch=800, loss=23.45730\n",
            "epoch=900, loss=22.56359\n",
            "epoch=1000, loss=22.21795\n",
            "epoch=1100, loss=22.08430\n",
            "epoch=1200, loss=22.03262\n",
            "epoch=1300, loss=22.01262\n",
            "epoch=1400, loss=22.00489\n",
            "epoch=1500, loss=22.00188\n",
            "epoch=1600, loss=22.00072\n",
            "epoch=1700, loss=22.00030\n",
            "epoch=1800, loss=22.00013\n",
            "epoch=1900, loss=22.00005\n"
          ],
          "name": "stdout"
        },
        {
          "output_type": "display_data",
          "data": {
            "text/plain": [
              "<Figure size 432x288 with 1 Axes>"
            ],
            "image/png": "[encoded data removed]"
          },
          "metadata": {
            "tags": [],
            "needs_background": "light"
          }
        },
        {
          "output_type": "stream",
          "text": [
            "linear.weight tensor([[-10.9987]])\n",
            "linear.bias tensor([109.9918])\n",
            "7.0수면 후 피곤한 정도: 33.00\n"
          ],
          "name": "stdout"
        }
      ]
    }
  ]
}
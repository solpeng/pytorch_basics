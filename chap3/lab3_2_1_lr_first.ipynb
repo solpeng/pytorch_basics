{
  "nbformat": 4,
  "nbformat_minor": 0,
  "metadata": {
    "colab": {
      "name": "lab3_2_1_lr_first.ipynb",
      "provenance": [],
      "collapsed_sections": []
    },
    "kernelspec": {
      "name": "python3",
      "display_name": "Python 3"
    },
    "language_info": {
      "name": "python"
    }
  },
  "cells": [
    {
      "cell_type": "code",
      "metadata": {
        "id": "uwdqh56s--aY"
      },
      "source": [
        "import torch\n",
        "import matplotlib.pyplot as plt\n",
        "\n",
        "def h(z):\n",
        "    return z\n",
        "\n",
        "x = torch.Tensor([1, 3, 5, 7, 9])\n",
        "y_true = torch.Tensor([100, 75, 60, 25, 15])\n",
        "\n",
        "w = -11\n",
        "b = 110\n",
        "z = w*x + b\n",
        "y = h(z)\n",
        "\n",
        "print(y)\n",
        "plt.plot(x, y, '-o')\n",
        "plt.plot(x,y_true, 'o')\n",
        "plt.xlabel('time [hours]')\n",
        "plt.ylabel('fatigue level [%]')\n",
        "plt.legend(['Predict', 'True'])\n",
        "plt.grid(True)\n",
        "plt.show()"
      ],
      "execution_count": null,
      "outputs": []
    }
  ]
}
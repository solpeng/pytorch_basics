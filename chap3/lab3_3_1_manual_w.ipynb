{
  "nbformat": 4,
  "nbformat_minor": 0,
  "metadata": {
    "colab": {
      "name": "lab3_3_1_manual_w.ipynb",
      "provenance": [],
      "collapsed_sections": []
    },
    "kernelspec": {
      "name": "python3",
      "display_name": "Python 3"
    },
    "language_info": {
      "name": "python"
    }
  },
  "cells": [
    {
      "cell_type": "code",
      "metadata": {
        "colab": {
          "base_uri": "https://localhost:8080/"
        },
        "id": "XOhMl9d_wys4",
        "outputId": "ce13d1fc-cf8c-4982-eff7-3bfc5232ce3f"
      },
      "source": [
        "import torch\n",
        "\n",
        "x = torch.Tensor([1, 3, 5, 7, 9])\n",
        "y_true = torch.Tensor([100, 75, 60, 25, 15])\n",
        "\n",
        "b = 110\n",
        "w = -1\n",
        "\n",
        "while True:\n",
        "    y_hat = w*x + b\n",
        "    loss = sum([(y_true[j]-y_hat[j])**2 \n",
        "                for j in range(len(x))])/len(x)\n",
        "\n",
        "    print(f'w={w:0.2f}, loss={loss.item():0.4f}')\n",
        "\n",
        "    diff = float(input('w를 얼마나 수정할까요?'))\n",
        "    if diff == 0:\n",
        "        break\n",
        "        \n",
        "    w = w + diff"
      ],
      "execution_count": null,
      "outputs": [
        {
          "output_type": "stream",
          "text": [
            "w=-1.00, loss=3322.0000\n",
            "w를 얼마나 수정할까요?-5\n",
            "w=-6.00, loss=847.0000\n",
            "w를 얼마나 수정할까요?-5\n",
            "w=-11.00, loss=22.0000\n",
            "w를 얼마나 수정할까요?-5\n",
            "w=-16.00, loss=847.0000\n",
            "w를 얼마나 수정할까요?+3\n",
            "w=-13.00, loss=154.0000\n",
            "w를 얼마나 수정할까요?+3\n",
            "w=-10.00, loss=55.0000\n",
            "w를 얼마나 수정할까요?+3\n",
            "w=-7.00, loss=550.0000\n",
            "w를 얼마나 수정할까요?-2\n",
            "w=-9.00, loss=154.0000\n",
            "w를 얼마나 수정할까요?-2\n",
            "w=-11.00, loss=22.0000\n",
            "w를 얼마나 수정할까요?-2\n",
            "w=-13.00, loss=154.0000\n",
            "w를 얼마나 수정할까요?+1\n",
            "w=-12.00, loss=55.0000\n",
            "w를 얼마나 수정할까요?+1\n",
            "w=-11.00, loss=22.0000\n",
            "w를 얼마나 수정할까요?+1\n",
            "w=-10.00, loss=55.0000\n",
            "w를 얼마나 수정할까요?-0.5\n",
            "w=-10.50, loss=30.2500\n",
            "w를 얼마나 수정할까요?-0.5\n",
            "w=-11.00, loss=22.0000\n",
            "w를 얼마나 수정할까요?0\n"
          ],
          "name": "stdout"
        }
      ]
    }
  ]
}
{
  "nbformat": 4,
  "nbformat_minor": 0,
  "metadata": {
    "colab": {
      "name": "code_1_4.ipynb",
      "provenance": [],
      "collapsed_sections": []
    },
    "kernelspec": {
      "name": "python3",
      "display_name": "Python 3"
    },
    "language_info": {
      "name": "python"
    },
    "accelerator": "GPU"
  },
  "cells": [
    {
      "cell_type": "code",
      "execution_count": null,
      "metadata": {
        "id": "lfyuV7BVCClP"
      },
      "outputs": [],
      "source": [
        "import torchvision.datasets as datasets\n",
        "import torchvision.transforms as transforms\n",
        "from torch.utils.data import DataLoader\n",
        "import torch\n",
        "import matplotlib.pyplot as plt\n",
        "\n",
        "mnist_train = datasets.MNIST(root='MNIST_data/',\n",
        "                             train=True,\n",
        "                             transform=transforms.ToTensor(),\n",
        "                             download=True)\n",
        "\n",
        "mnist_test  = datasets.MNIST(root='MNIST_data/',\n",
        "                             train=False,\n",
        "                             transform=transforms.ToTensor(),\n",
        "                             download=True)\n",
        "\n",
        "BATSIZE = 10000\n",
        "\n",
        "train_loader = DataLoader(dataset=mnist_train,\n",
        "                          batch_size=BATSIZE,\n",
        "                          shuffle=True,\n",
        "                          num_workers=0)\n",
        "\n",
        "test_loader  = DataLoader(dataset=mnist_test,\n",
        "                          batch_size=BATSIZE,\n",
        "                          shuffle=True,\n",
        "                          num_workers=0)\n",
        "\n",
        "device = 'cuda' if torch.cuda.is_available() else 'cpu'"
      ]
    },
    {
      "cell_type": "code",
      "source": [
        "class Net(torch.nn.Module):\n",
        "    def __init__(self):\n",
        "        super(Net, self).__init__()\n",
        "        self.fc1 = torch.nn.Linear(784, 1024)\n",
        "        self.fc2 = torch.nn.Linear(1024, 512)\n",
        "        self.fc3 = torch.nn.Linear(512, 256)\n",
        "        self.fc4 = torch.nn.Linear(256, 128)\n",
        "        self.fc5 = torch.nn.Linear(128, 10)\n",
        "        self.relu = torch.nn.ReLU()\n",
        "\n",
        "    def forward(self, x):\n",
        "        x = x.view(-1, 784)\n",
        "        x = self.relu(self.fc1(x))\n",
        "        x = self.relu(self.fc2(x))\n",
        "        x = self.relu(self.fc3(x))\n",
        "        x = self.relu(self.fc4(x))\n",
        "        z = self.fc5(x)\n",
        "        return z\n",
        "\n",
        "net = Net().to(device)\n",
        "cel = torch.nn.CrossEntropyLoss()\n",
        "optimizer = torch.optim.Adam(net.parameters(), lr=0.01)\n",
        "\n",
        "EPOCHS = 10\n",
        "for epoch in range(EPOCHS):\n",
        "    l_sum = 0\n",
        "\n",
        "    for batch_idx, (x,y) in enumerate(train_loader):\n",
        "        x, y = x.to(device), y.to(device)\n",
        "        z = net(x)\n",
        "        loss = cel(z, y)\n",
        "\n",
        "        optimizer.zero_grad()\n",
        "        loss.backward()\n",
        "        optimizer.step()\n",
        "        l_sum += loss.item()\n",
        "\n",
        "    print(f'Epoch: {epoch+1:2d} / {EPOCHS}',\n",
        "          f'Loss: {l_sum:0.6f}')"
      ],
      "metadata": {
        "id": "9GkqcTuACKPr"
      },
      "execution_count": null,
      "outputs": []
    },
    {
      "cell_type": "code",
      "source": [
        "index = 10\n",
        "\n",
        "net.eval()\n",
        "x = mnist_test[index][0].view(28, 28).to(device)\n",
        "y = mnist_test[index][1]\n",
        "\n",
        "z = net(x)\n",
        "pred = torch.max(z, 1)[1].item()\n",
        "\n",
        "print(f'Predicted: {pred}')\n",
        "print(f'Label: {y}')\n",
        "\n",
        "plt.imshow(x.cpu(), cmap='Greys')\n",
        "plt.show()"
      ],
      "metadata": {
        "id": "oeMbZW3jDAsm"
      },
      "execution_count": null,
      "outputs": []
    }
  ]
}